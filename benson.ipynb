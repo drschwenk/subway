{
 "worksheets": [
  {
   "cells": [
    {
     "cell_type": "heading",
     "metadata": {},
     "level": 1,
     "source": [
      "Benson challenge"
     ]
    },
    {
     "cell_type": "markdown",
     "metadata": {},
     "source": [
      "Importing functions from Benson_modules.py"
     ]
    },
    {
     "cell_type": "code",
     "metadata": {},
     "outputs": [],
     "input": [
      "from Benson_modules import *\n",
      "import pylab\n",
      "import numpy as np\n",
      "import matplotlib.pyplot as plt\n",
      "%matplotlib inline"
     ],
     "language": "python",
     "prompt_number": 94
    },
    {
     "cell_type": "code",
     "metadata": {},
     "outputs": [
      {
       "output_type": "stream",
       "stream": "stdout",
       "text": [
        "\nloading ./mta_data/short.txt\n\ncalculating turnstile counts for 25 turnstiles\n"
       ]
      },
      {
       "output_type": "stream",
       "stream": "stdout",
       "text": [
        "\nplotting\n"
       ]
      },
      {
       "ename": "TypeError",
       "evalue": "'datetime.date' object has no attribute '__getitem__'",
       "output_type": "pyerr",
       "traceback": [
        "\u001b[0;31m---------------------------------------------------------------------------\u001b[0m\n\u001b[0;31mTypeError\u001b[0m                                 Traceback (most recent call last)",
        "\u001b[0;32m<ipython-input-95-9bcf93eac04b>\u001b[0m in \u001b[0;36m<module>\u001b[0;34m()\u001b[0m\n\u001b[1;32m      3\u001b[0m \u001b[0mts_perturn\u001b[0m \u001b[0;34m=\u001b[0m \u001b[0mmakedaily_ts\u001b[0m\u001b[0;34m(\u001b[0m\u001b[0mrawfile\u001b[0m\u001b[0;34m)\u001b[0m\u001b[0;34m\u001b[0m\u001b[0m\n\u001b[1;32m      4\u001b[0m \u001b[0;34m\u001b[0m\u001b[0m\n\u001b[0;32m----> 5\u001b[0;31m \u001b[0mchallenge4\u001b[0m \u001b[0;34m=\u001b[0m \u001b[0mproducePlot\u001b[0m\u001b[0;34m(\u001b[0m\u001b[0mts_perturn\u001b[0m\u001b[0;34m)\u001b[0m\u001b[0;34m\u001b[0m\u001b[0m\n\u001b[0m\u001b[1;32m      6\u001b[0m \u001b[0;34m\u001b[0m\u001b[0m\n\u001b[1;32m      7\u001b[0m \u001b[0mplt\u001b[0m\u001b[0;34m.\u001b[0m\u001b[0mtitle\u001b[0m\u001b[0;34m(\u001b[0m\u001b[0;34m'Subway ridership '\u001b[0m \u001b[0;34mu\"\\u2013\"\u001b[0m \u001b[0;34m' 1/1/15'\u001b[0m\u001b[0;34m,\u001b[0m \u001b[0mfontsize\u001b[0m\u001b[0;34m=\u001b[0m\u001b[0;36m25\u001b[0m\u001b[0;34m)\u001b[0m\u001b[0;34m\u001b[0m\u001b[0m\n",
        "\u001b[0;32m<ipython-input-92-379fa1e5d47e>\u001b[0m in \u001b[0;36mproducePlot\u001b[0;34m(timeSeries)\u001b[0m\n\u001b[1;32m      4\u001b[0m         \u001b[0;31m# t1=timeSeries[('R101', 'R001', '02-00-01', 'SOUTH FERRY')]\u001b[0m\u001b[0;34m\u001b[0m\u001b[0;34m\u001b[0m\u001b[0m\n\u001b[1;32m      5\u001b[0m         \u001b[0mturn\u001b[0m\u001b[0;34m,\u001b[0m \u001b[0mweek\u001b[0m \u001b[0;34m=\u001b[0m \u001b[0mtimeSeries\u001b[0m\u001b[0;34m.\u001b[0m\u001b[0mitems\u001b[0m\u001b[0;34m(\u001b[0m\u001b[0;34m)\u001b[0m\u001b[0;34m[\u001b[0m\u001b[0;36m0\u001b[0m\u001b[0;34m]\u001b[0m\u001b[0;34m\u001b[0m\u001b[0m\n\u001b[0;32m----> 6\u001b[0;31m         \u001b[0mdates\u001b[0m \u001b[0;34m=\u001b[0m \u001b[0;34m[\u001b[0m\u001b[0mday\u001b[0m\u001b[0;34m[\u001b[0m\u001b[0;36m0\u001b[0m\u001b[0;34m]\u001b[0m \u001b[0;32mfor\u001b[0m \u001b[0mday\u001b[0m \u001b[0;32min\u001b[0m \u001b[0mweek\u001b[0m\u001b[0;34m]\u001b[0m\u001b[0;34m\u001b[0m\u001b[0m\n\u001b[0m\u001b[1;32m      7\u001b[0m         \u001b[0mcounts\u001b[0m \u001b[0;34m=\u001b[0m \u001b[0;34m[\u001b[0m\u001b[0mcount\u001b[0m\u001b[0;34m[\u001b[0m\u001b[0;36m1\u001b[0m\u001b[0;34m]\u001b[0m \u001b[0;32mfor\u001b[0m \u001b[0mcount\u001b[0m \u001b[0;32min\u001b[0m \u001b[0mweek\u001b[0m\u001b[0;34m]\u001b[0m\u001b[0;34m\u001b[0m\u001b[0m\n\u001b[1;32m      8\u001b[0m \u001b[0;34m\u001b[0m\u001b[0m\n",
        "\u001b[0;31mTypeError\u001b[0m: 'datetime.date' object has no attribute '__getitem__'"
       ]
      }
     ],
     "input": [
      "filename = \"./mta_data/short.txt\"\n",
      "rawfile = read_mta_file(filename)\n",
      "ts_perturn = makedaily_ts(rawfile)\n",
      "\n",
      "challenge4 = producePlot(ts_perturn)\n",
      "\n",
      "plt.title('Subway ridership ' u\"\\u2013\" ' 1/1/15', fontsize=25)\n",
      "plt.xlabel(\"Date\", fontsize=25, labelpad=15)\n",
      "plt.ylabel(\"Number of Riders\", fontsize=25, labelpad=15)\n",
      "plt.show()"
     ],
     "language": "python",
     "prompt_number": 95
    },
    {
     "cell_type": "markdown",
     "metadata": {},
     "source": [
      "Set the number of weeks to look at in analysis. Data for 11 weeks are available."
     ]
    },
    {
     "cell_type": "code",
     "metadata": {},
     "outputs": [],
     "input": [
      "numberWeeks = 3"
     ],
     "language": "python",
     "prompt_number": 51
    },
    {
     "cell_type": "markdown",
     "metadata": {},
     "source": [
      "Setting path for data files"
     ]
    },
    {
     "cell_type": "code",
     "metadata": {},
     "outputs": [
      {
       "output_type": "stream",
       "stream": "stdout",
       "text": [
        "loading file\n",
        "removing unwanted data and creating time series"
       ]
      },
      {
       "output_type": "stream",
       "stream": "stdout",
       "text": [
        "\n",
        "counting ridership totals"
       ]
      },
      {
       "output_type": "stream",
       "stream": "stdout",
       "text": [
        "\n",
        "making weekly totals"
       ]
      },
      {
       "output_type": "stream",
       "stream": "stdout",
       "text": [
        "\n",
        "loading file\n",
        "removing unwanted data and creating time series"
       ]
      },
      {
       "output_type": "stream",
       "stream": "stdout",
       "text": [
        "\n",
        "counting ridership totals"
       ]
      },
      {
       "output_type": "stream",
       "stream": "stdout",
       "text": [
        "\n",
        "making weekly totals"
       ]
      },
      {
       "output_type": "stream",
       "stream": "stdout",
       "text": [
        "\n",
        "loading file\n",
        "removing unwanted data and creating time series"
       ]
      },
      {
       "output_type": "stream",
       "stream": "stdout",
       "text": [
        "\n",
        "counting ridership totals"
       ]
      },
      {
       "output_type": "stream",
       "stream": "stdout",
       "text": [
        "\n",
        "making weekly totals"
       ]
      },
      {
       "output_type": "stream",
       "stream": "stdout",
       "text": [
        "\n"
       ]
      }
     ],
     "input": [
      "path= \"./mta_data/mta\"\n",
      "datafiles=[path+str(i)+\".txt\" for i in range(12-numberWeeks,12)]\n",
      "\n",
      "week_series=[]\n",
      "\n",
      "for week in range(0,numberWeeks):\n",
      "\ttseries =  combineTurns(makeTotals(make_time_series(read_mta_file(datafiles[week]))))\n",
      "\tweek_series.append(makeWeekly(combineAll(tseries)))"
     ],
     "language": "python",
     "prompt_number": 52
    },
    {
     "cell_type": "code",
     "metadata": {},
     "outputs": [
      {
       "ename": "AttributeError",
       "evalue": "'int' object has no attribute 'iteritems'",
       "output_type": "pyerr",
       "traceback": [
        "\u001b[0;31m---------------------------------------------------------------------------\u001b[0m\n\u001b[0;31mAttributeError\u001b[0m                            Traceback (most recent call last)",
        "\u001b[0;32m<ipython-input-50-f3375cde5ba2>\u001b[0m in \u001b[0;36m<module>\u001b[0;34m()\u001b[0m\n\u001b[1;32m      1\u001b[0m \u001b[0;32mfor\u001b[0m \u001b[0mstation\u001b[0m \u001b[0;32min\u001b[0m \u001b[0mweek_series\u001b[0m\u001b[0;34m:\u001b[0m\u001b[0;34m\u001b[0m\u001b[0m\n\u001b[0;32m----> 2\u001b[0;31m         \u001b[0;32mfor\u001b[0m \u001b[0mstation\u001b[0m\u001b[0;34m,\u001b[0m \u001b[0mcounts\u001b[0m \u001b[0;32min\u001b[0m \u001b[0mweek\u001b[0m\u001b[0;34m.\u001b[0m\u001b[0miteritems\u001b[0m\u001b[0;34m(\u001b[0m\u001b[0;34m)\u001b[0m\u001b[0;34m:\u001b[0m\u001b[0;34m\u001b[0m\u001b[0m\n\u001b[0m\u001b[1;32m      3\u001b[0m                 \u001b[0;32mprint\u001b[0m \u001b[0mstation\u001b[0m\u001b[0;34m,\u001b[0m \u001b[0mcounts\u001b[0m\u001b[0;34m\u001b[0m\u001b[0m\n",
        "\u001b[0;31mAttributeError\u001b[0m: 'int' object has no attribute 'iteritems'"
       ]
      }
     ],
     "input": [
      "for station in week_series:\n",
      "\tfor station, counts in week.iteritems():\n",
      "\t\tprint station, counts"
     ],
     "language": "python",
     "prompt_number": 50
    },
    {
     "cell_type": "code",
     "metadata": {},
     "outputs": [],
     "input": [
      "historical_tot = {}\n",
      "for station in week_series:\n",
      "    for station, counts in week.iteritems():\n",
      "        historical_tot[station] = sum(counts)\n",
      "       \n",
      "list = []        \n",
      "for k,v in historical_tot.iteritems():"
     ],
     "language": "python"
    },
    {
     "cell_type": "code",
     "metadata": {},
     "outputs": [
      {
       "output_type": "pyout",
       "prompt_number": 49,
       "text": [
        "['EXCHANGE PLACE',\n",
        " 'WALL ST',\n",
        " 'ST. GEORGE',\n",
        " 'CHRISTOPHER ST',\n",
        " 'VAN WYCK BLVD',\n",
        " 'PAVONIA/NEWPORT',\n",
        " 'NEWARK HM HE',\n",
        " 'PATH WTC 2',\n",
        " 'BOYD-88 ST',\n",
        " 'BROAD CHANNEL',\n",
        " 'OXFORD-104 ST',\n",
        " 'BEACH 105 ST',\n",
        " 'BEACH 98 ST',\n",
        " 'BEACH 44 ST',\n",
        " 'ROCKAWAY PK 116',\n",
        " 'TOMPKINSVILLE',\n",
        " 'BEACH 36 ST',\n",
        " 'AQUEDUCT-N CNDT',\n",
        " 'BEACH 90 ST',\n",
        " '9TH STREET',\n",
        " 'CYPRESS HILLS',\n",
        " '22 AVE-BAY PKY',\n",
        " 'VAN ALSTON-21ST',\n",
        " 'AQUEDUCT TRACK',\n",
        " 'HOWARD BCH-JFK',\n",
        " 'ALABAMA AVE',\n",
        " 'NEPTUNE AVE',\n",
        " 'WHITLOCK AVE',\n",
        " '215 ST',\n",
        " 'LIBERTY AVE',\n",
        " '55 ST',\n",
        " 'HEWES ST',\n",
        " 'ATLANTIC AVE',\n",
        " 'BEEBE-39 AVE',\n",
        " 'BUSHWICK AVE',\n",
        " 'BOTANIC GARDEN',\n",
        " 'MORRIS PARK',\n",
        " 'BEACH 25 ST',\n",
        " 'AVE I',\n",
        " 'AVE P',\n",
        " 'JUNIUS ST',\n",
        " 'SENECA AVE',\n",
        " 'BEVERLEY ROAD',\n",
        " 'BEACH 60 ST',\n",
        " '121 ST',\n",
        " 'BAY 50 ST',\n",
        " 'RIT-MANHATTAN',\n",
        " 'BRONX PARK EAST',\n",
        " '138 ST-GR CONC',\n",
        " 'BOWERY',\n",
        " 'CLEVELAND ST',\n",
        " 'SHEPHERD AVE',\n",
        " '104 ST',\n",
        " 'FOREST AVE',\n",
        " 'BEACH 67 ST',\n",
        " '219 ST',\n",
        " 'NORWOOD AVE',\n",
        " 'CHAUNCEY ST',\n",
        " 'E 143 ST',\n",
        " '65 ST',\n",
        " 'BAYCHESTER AVE',\n",
        " 'CENTRAL AVE',\n",
        " '74 ST-BROADWAY',\n",
        " 'AVE X',\n",
        " 'BURKE AVE',\n",
        " 'NEREID AVE',\n",
        " 'AVE H',\n",
        " 'INTERVALE-163',\n",
        " 'BROADWAY',\n",
        " '163 ST-AMSTERDM',\n",
        " '238 ST',\n",
        " 'LIVONIA AVE',\n",
        " 'BEVERLY ROAD',\n",
        " '148 ST-LENOX',\n",
        " 'ST LAWRENCE AVE',\n",
        " '4 AVE',\n",
        " 'CRESCENT ST',\n",
        " 'RIT-ROOSEVELT',\n",
        " 'EAST 105 ST',\n",
        " 'KOSCIUSZKO ST',\n",
        " 'GROVE STREET',\n",
        " 'DYRE AVE',\n",
        " '225 ST',\n",
        " 'FOREST PARKWAY',\n",
        " 'PRESIDENT ST',\n",
        " '190 ST',\n",
        " 'KNICKERBOCKER',\n",
        " 'CLASSON AVE',\n",
        " 'ELDERTS LANE',\n",
        " 'PARKSIDE AVE',\n",
        " 'JFK HOWARD BCH',\n",
        " '25 AVE',\n",
        " '182-183 ST',\n",
        " 'KINGSTON AVE',\n",
        " 'WILSON AVE',\n",
        " 'ALLERTON AVE',\n",
        " '75 AVE',\n",
        " '6 AVE',\n",
        " 'NEWARK HW BMEBE',\n",
        " 'CLARK ST',\n",
        " 'FAR ROCKAWAY',\n",
        " 'MIDDLETOWN ROAD',\n",
        " 'LAFAYETTE AVE',\n",
        " 'SARATOGA AVE',\n",
        " 'JAMAICA-VAN WYC',\n",
        " 'PENNSYLVANIA AV',\n",
        " 'WAKEFIELD-241',\n",
        " 'SMITH-9 ST',\n",
        " 'NECK ROAD',\n",
        " 'STERLING ST',\n",
        " '71 ST',\n",
        " 'CITY HALL',\n",
        " 'NEWARK C',\n",
        " '233 ST',\n",
        " 'EASTERN PKWY',\n",
        " '69 ST-FISK AVE',\n",
        " 'RALPH AVE',\n",
        " 'MT EDEN AVE',\n",
        " '176 ST',\n",
        " 'GATES AVE',\n",
        " 'CORTELYOU ROAD',\n",
        " 'ELDER AVE',\n",
        " 'MONTROSE AVE',\n",
        " 'FRESH POND ROAD',\n",
        " 'DYCKMAN-200 ST',\n",
        " '207 ST',\n",
        " 'W 8 ST-AQUARIUM',\n",
        " '52 ST-LINCOLN',\n",
        " 'WESTCHESTER SQ',\n",
        " 'WASHINGTON-36 A',\n",
        " '242 ST',\n",
        " '183 ST',\n",
        " 'JACKSON AVE',\n",
        " 'MARBLE HILL-225',\n",
        " 'DYCKMAN ST',\n",
        " 'HUNTERS PT AVE',\n",
        " 'GRANT AVE',\n",
        " 'E 180 ST',\n",
        " '9 AVE',\n",
        " 'YORK ST',\n",
        " 'JFK JAMAICA CT1',\n",
        " 'AVE M',\n",
        " 'AVE J',\n",
        " '45 ST',\n",
        " '53 ST',\n",
        " 'HARRISON',\n",
        " 'MORRISON AVE',\n",
        " '21 ST',\n",
        " 'ROOSEVELT IS',\n",
        " 'TWENTY THIRD ST',\n",
        " 'WOODLAWN ROAD',\n",
        " 'JEFFERSON ST',\n",
        " 'MORGAN AVE',\n",
        " 'LONGWOOD AVE',\n",
        " '7 AVE',\n",
        " 'GRAND ARMY PLAZ',\n",
        " 'EUCLID AVE',\n",
        " 'ESSEX ST',\n",
        " 'WINTHROP ST',\n",
        " 'E TREMONT AVE',\n",
        " 'COURT SQ-23 ST',\n",
        " 'CYPRESS AVE',\n",
        " 'CASTLE HILL AVE',\n",
        " 'LEFFERTS BLVD',\n",
        " '191 ST',\n",
        " 'PELHAM BAY PARK',\n",
        " '138 ST-3 AVE',\n",
        " 'BAY RIDGE AVE',\n",
        " 'TREMONT AVE',\n",
        " 'BAY PARKWAY',\n",
        " 'LACKAWANNA',\n",
        " 'THIRTY ST',\n",
        " '14TH STREET',\n",
        " '110 ST-CPN',\n",
        " 'BROADWAY-ENY',\n",
        " 'NASSAU AV',\n",
        " 'BURNSIDE AVE',\n",
        " 'NEWKIRK PLAZA',\n",
        " '7 AV-PARK SLOPE',\n",
        " 'HOYT/SCHERMER',\n",
        " '9 ST',\n",
        " 'MOSHOLU PARKWAY',\n",
        " 'DITMAS AVE',\n",
        " 'E 149 ST',\n",
        " '116 ST-COLUMBIA',\n",
        " 'GREENPOINT AVE',\n",
        " 'GREENWOOD-111',\n",
        " '231 ST',\n",
        " 'HUNTS POINT AVE',\n",
        " 'HOYT ST-ASTORIA',\n",
        " '40 ST-LOWERY ST',\n",
        " 'GRAND-30 AVE',\n",
        " 'QUEENSBORO PLZ',\n",
        " 'WORLD TRADE CTR',\n",
        " 'BAY RIDGE-95 ST',\n",
        " 'BROADWAY-31 ST',\n",
        " '5 AVE-BRYANT PK',\n",
        " 'OCEAN PARKWAY',\n",
        " '25 ST',\n",
        " 'MYRTLE-WILLOUGH',\n",
        " '57 ST',\n",
        " 'ROCKAWAY PKY',\n",
        " 'ELMHURST AVE',\n",
        " '174 ST',\n",
        " 'NEWARK BM BW',\n",
        " 'SOUTH FERRY',\n",
        " 'BLEECKER ST',\n",
        " 'CORTLANDT ST',\n",
        " 'E 177 ST-PARKCH',\n",
        " 'CITY / BUS',\n",
        " 'GRAHAM AVE',\n",
        " 'AVE N',\n",
        " 'PARK PLACE',\n",
        " 'DITMARS BL-31 S',\n",
        " '82 ST-JACKSON H',\n",
        " 'PATH WTC',\n",
        " '174-175 ST',\n",
        " '61 ST/WOODSIDE',\n",
        " 'HUDSON-80 ST',\n",
        " 'FREEMAN ST',\n",
        " 'HIGH ST',\n",
        " '90 ST-ELMHURST',\n",
        " '103 ST-CORONA',\n",
        " 'CATHEDRL-110 ST',\n",
        " 'JOURNAL SQUARE',\n",
        " 'JUNCTION BLVD',\n",
        " '155 ST',\n",
        " 'GRAND AV-NEWTON',\n",
        " 'SIMPSON ST',\n",
        " 'FRANKLIN ST',\n",
        " 'THIRTY THIRD ST',\n",
        " '175 ST',\n",
        " 'PROSPECT PARK',\n",
        " '157 ST',\n",
        " 'KINGSTON-THROOP',\n",
        " 'HOYT ST',\n",
        " 'BROOK AVE',\n",
        " 'NEW UTRECHT AVE',\n",
        " 'BEDFORD AVE',\n",
        " 'NORWOOD-205 ST',\n",
        " '3 AVE',\n",
        " '68ST-HUNTER COL',\n",
        " '15 ST-PROSPECT',\n",
        " '110 ST',\n",
        " '67 AVE',\n",
        " 'LORIMER ST',\n",
        " 'BEDFORD/NOSTRAN',\n",
        " '20 AVE',\n",
        " '28 ST-BROADWAY',\n",
        " 'BAY PKY-22 AVE',\n",
        " '46 ST-BLISS ST',\n",
        " 'UNION ST',\n",
        " 'NEW LOTS AVE',\n",
        " 'SHEEPSHEAD BAY',\n",
        " 'BRIGHTON BEACH',\n",
        " 'ROCKAWAY BLVD',\n",
        " 'NORTHERN BLVD',\n",
        " 'NEVINS ST',\n",
        " 'ASTOR PLACE',\n",
        " '33 ST/RAWSON ST',\n",
        " 'COURT SQ',\n",
        " 'BROAD ST',\n",
        " 'VAN SICLEN AVE',\n",
        " '18 ST',\n",
        " 'ROCKAWAY AVE',\n",
        " '169 ST',\n",
        " 'PARSONS BLVD',\n",
        " 'DELANCEY ST',\n",
        " 'FLATBUSH AVE',\n",
        " '5 AVE-59 ST',\n",
        " '2 AVE',\n",
        " 'NEWKIRK AVE',\n",
        " 'CARROLL ST',\n",
        " 'BEDFORD PARK BL',\n",
        " 'BROOKLYN BRIDGE',\n",
        " \"PRINCE ST-B'WAY\",\n",
        " '149 ST-GR CONC',\n",
        " 'GUN HILL ROAD',\n",
        " 'PROSPECT AVE',\n",
        " 'QUEENS PLAZA',\n",
        " 'STILLWELL AVE',\n",
        " '7 AVE-53 ST',\n",
        " 'EAST BROADWAY',\n",
        " 'HALSEY ST',\n",
        " 'SUTTER AVE',\n",
        " '46 ST',\n",
        " 'PELHAM PARKWAY',\n",
        " 'HOUSTON ST',\n",
        " 'FRANKLIN AVE',\n",
        " 'MARCY AVE',\n",
        " 'FLUSHING AVE',\n",
        " '149 ST-3 AVE',\n",
        " 'BROADWAY/LAFAY',\n",
        " 'NOSTRAND AVE',\n",
        " 'METS-WILLETS PT',\n",
        " '110 ST-CATHEDRL',\n",
        " 'STEINWAY ST',\n",
        " 'UTICA AVE',\n",
        " '81 ST-MUSEUM',\n",
        " 'METROPOLITAN AV',\n",
        " 'WHITEHALL ST',\n",
        " 'CLINTON-WASH AV',\n",
        " 'AVE U',\n",
        " '18 AVE',\n",
        " 'VERNON/JACKSON',\n",
        " 'RECTOR ST',\n",
        " '181 ST',\n",
        " '111 ST',\n",
        " '137 ST-CITY COL',\n",
        " 'FT HAMILTON PKY',\n",
        " 'BERGEN ST',\n",
        " \"8 ST-B'WAY NYU\",\n",
        " '170 ST',\n",
        " '167 ST',\n",
        " '79 ST',\n",
        " 'KINGSBRIDGE RD',\n",
        " '63 DR-REGO PARK',\n",
        " '36 ST',\n",
        " '168 ST-BROADWAY',\n",
        " '66 ST-LINCOLN',\n",
        " 'DEKALB AVE',\n",
        " '57 ST-7 AVE',\n",
        " '42 ST-BRYANT PK',\n",
        " 'W 4 ST-WASH SQ',\n",
        " '14 ST-6 AVE',\n",
        " 'ROOSEVELT AVE',\n",
        " 'JAMAICA-179 ST',\n",
        " 'BOWLING GREEN',\n",
        " '23 ST-6 AVE',\n",
        " '103 ST',\n",
        " 'SPRING ST',\n",
        " '5 AVE-53 ST',\n",
        " 'FORDHAM ROAD',\n",
        " 'FOREST HILLS-71',\n",
        " 'LEXINGTON AVE',\n",
        " '14 ST',\n",
        " '135 ST',\n",
        " 'UNION TPK-KEW G',\n",
        " '49 ST-7 AVE',\n",
        " 'MYRTLE AVE',\n",
        " 'WOODHAVEN BLVD',\n",
        " 'CROWN HTS-UTICA',\n",
        " '28 ST',\n",
        " 'BOROUGH HALL/CT',\n",
        " 'KINGS HIGHWAY',\n",
        " '33 ST',\n",
        " '51 ST',\n",
        " '8 AVE',\n",
        " '145 ST',\n",
        " '161 ST-YANKEE',\n",
        " '116 ST',\n",
        " 'SUTPHIN BLVD',\n",
        " 'GRAND ST',\n",
        " 'BARCLAYS CENTER',\n",
        " 'CHURCH AVE',\n",
        " '77 ST',\n",
        " 'LEXINGTON-53 ST',\n",
        " 'JAY ST-METROTEC',\n",
        " 'JAMAICA CENTER',\n",
        " 'MAIN ST',\n",
        " '59 ST-COLUMBUS',\n",
        " '50 ST',\n",
        " '72 ST',\n",
        " '59 ST',\n",
        " '23 ST',\n",
        " 'CANAL ST',\n",
        " '96 ST',\n",
        " '47-50 ST-ROCK',\n",
        " '14 ST-UNION SQ',\n",
        " 'CHAMBERS ST',\n",
        " 'FULTON ST',\n",
        " '42 ST-PA BUS TE',\n",
        " '42 ST-TIMES SQ',\n",
        " '34 ST-HERALD SQ',\n",
        " '86 ST',\n",
        " '42 ST-GRD CNTRL',\n",
        " '34 ST-PENN STA',\n",
        " 'INWOOD-207 ST',\n",
        " '125 ST',\n",
        " '23 ST-5 AVE',\n",
        " '1 AVE']"
       ],
       "metadata": {}
      }
     ],
     "input": [
      "sorted(historical_tot, key=historical_tot.get)"
     ],
     "language": "python",
     "prompt_number": 49
    },
    {
     "cell_type": "code",
     "metadata": {},
     "outputs": [],
     "input": [
      ""
     ],
     "language": "python",
     "prompt_number": 44
    },
    {
     "cell_type": "code",
     "metadata": {},
     "outputs": [],
     "input": [
      ""
     ],
     "language": "python",
     "prompt_number": 37
    },
    {
     "cell_type": "code",
     "metadata": {},
     "outputs": [],
     "input": [
      ""
     ],
     "language": "python",
     "prompt_number": 37
    },
    {
     "cell_type": "code",
     "metadata": {},
     "outputs": [],
     "input": [
      ""
     ],
     "language": "python"
    }
   ]
  }
 ],
 "cells": [],
 "metadata": {
  "signature": "sha256:157be46f5093bd1517dc62e378de62daad536a0ceb67b1a28c3ec336d2e608bf"
 },
 "nbformat": 3,
 "nbformat_minor": 0
}