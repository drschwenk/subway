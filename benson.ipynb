{
 "metadata": {
  "signature": "sha256:726e416f27b47fb207883f5bbce1d158c54a746e0b8adee9447c57a31f39f16c"
 },
 "nbformat": 3,
 "nbformat_minor": 0,
 "worksheets": [
  {
   "cells": [
    {
     "cell_type": "heading",
     "level": 1,
     "metadata": {},
     "source": [
      "Benson challenges"
     ]
    },
    {
     "cell_type": "markdown",
     "metadata": {},
     "source": [
      "Importing functions from Benson_modules.py"
     ]
    },
    {
     "cell_type": "code",
     "collapsed": false,
     "input": [
      "from Benson_modules import *\n",
      "import pylab\n",
      "import numpy as np\n",
      "import matplotlib.pyplot as plt\n",
      "%matplotlib inline"
     ],
     "language": "python",
     "metadata": {},
     "outputs": [],
     "prompt_number": 1
    },
    {
     "cell_type": "code",
     "collapsed": false,
     "input": [
      "filename = \"./mta_data/mta11.txt\"\n",
      "rawfile = read_mta_file(filename)\n",
      "ts_pert = makedaily_ts(rawfile)"
     ],
     "language": "python",
     "metadata": {},
     "outputs": [
      {
       "output_type": "stream",
       "stream": "stdout",
       "text": [
        "\n",
        "loading ./mta_data/mta11.txt\n",
        "\n",
        "calculating turnstile counts for 4557 turnstiles\n"
       ]
      },
      {
       "output_type": "stream",
       "stream": "stdout",
       "text": [
        "\n"
       ]
      }
     ],
     "prompt_number": 40
    },
    {
     "cell_type": "heading",
     "level": 3,
     "metadata": {},
     "source": [
      "Challenge 4"
     ]
    },
    {
     "cell_type": "code",
     "collapsed": false,
     "input": [
      "def producePlot(timeSeries):\n",
      "\tprint \"plotting\"\n",
      "\tturn, week = timeSeries.items()[0]\n",
      "\tdates = [day[0] for day in week]\n",
      "\tcounts = [count[1] for count in week]\n",
      "\n",
      "\tpylab.plot(dates, counts)\n",
      "\treturn\n",
      "\n",
      "challenge4 = producePlot(ts_pert)\n",
      "\n",
      "plt.title('Weekly Subway Ridership for a Single Turnstile', fontsize=15)\n",
      "plt.xlabel(\"Date\", fontsize=15, labelpad=10)\n",
      "plt.ylabel(\"Number of Riders\", fontsize=15, labelpad=15)\n",
      "plt.xticks(rotation=60)\n",
      "plt.show()"
     ],
     "language": "python",
     "metadata": {},
     "outputs": [
      {
       "output_type": "stream",
       "stream": "stdout",
       "text": [
        "plotting\n"
       ]
      },
      {
       "metadata": {},
       "output_type": "display_data",
       "png": "[encoded data removed]",
       "text": [
        "<matplotlib.figure.Figure at 0x104059610>"
       ]
      }
     ],
     "prompt_number": 41
    },
    {
     "cell_type": "heading",
     "level": 3,
     "metadata": {},
     "source": [
      "Challenge 7"
     ]
    },
    {
     "cell_type": "code",
     "collapsed": false,
     "input": [
      "ts_perunit = collapse_scp(ts_pert)\n",
      "ts_perStation = collapse_station(ts_perunit)\n",
      "weekly_ts = makeWeekly(ts_perStation)\n",
      "\n",
      "\n",
      "\n",
      "def producePlot(timeSeries):\n",
      "    print \"plotting\"\n",
      "    station, week = timeSeries.items()[0]\n",
      "    dates = [day[0] for day in week]\n",
      "    counts = [count[1] for count in week]\n",
      "\n",
      "    pylab.plot(dates, counts)\n",
      "    plt.title('Weekly Subway Ridership for ' + station, fontsize=15)\n",
      "    plt.xlabel(\"Date\", fontsize=15, labelpad=10)\n",
      "    plt.ylabel(\"Number of Riders\", fontsize=15, labelpad=15)\n",
      "    plt.xticks(rotation=60)\n",
      "    plt.show()\n",
      "    return\n",
      "\n",
      "challenge7 = producePlot(ts_perStation)\n"
     ],
     "language": "python",
     "metadata": {},
     "outputs": [
      {
       "ename": "KeyError",
       "evalue": "datetime.date(2015, 1, 3)",
       "output_type": "pyerr",
       "traceback": [
        "\u001b[0;31m---------------------------------------------------------------------------\u001b[0m\n\u001b[0;31mKeyError\u001b[0m                                  Traceback (most recent call last)",
        "\u001b[0;32m<ipython-input-42-985d38ace372>\u001b[0m in \u001b[0;36m<module>\u001b[0;34m()\u001b[0m\n\u001b[0;32m----> 1\u001b[0;31m \u001b[0mts_perunit\u001b[0m \u001b[0;34m=\u001b[0m \u001b[0mcollapse_scp\u001b[0m\u001b[0;34m(\u001b[0m\u001b[0mts_pert\u001b[0m\u001b[0;34m)\u001b[0m\u001b[0;34m\u001b[0m\u001b[0m\n\u001b[0m\u001b[1;32m      2\u001b[0m \u001b[0mts_perStation\u001b[0m \u001b[0;34m=\u001b[0m \u001b[0mcollapse_station\u001b[0m\u001b[0;34m(\u001b[0m\u001b[0mts_perunit\u001b[0m\u001b[0;34m)\u001b[0m\u001b[0;34m\u001b[0m\u001b[0m\n\u001b[1;32m      3\u001b[0m \u001b[0mweekly_ts\u001b[0m \u001b[0;34m=\u001b[0m \u001b[0mmakeWeekly\u001b[0m\u001b[0;34m(\u001b[0m\u001b[0mts_perStation\u001b[0m\u001b[0;34m)\u001b[0m\u001b[0;34m\u001b[0m\u001b[0m\n\u001b[1;32m      4\u001b[0m \u001b[0;34m\u001b[0m\u001b[0m\n\u001b[1;32m      5\u001b[0m \u001b[0;34m\u001b[0m\u001b[0m\n",
        "\u001b[0;32m/Users/schwenk/Metis/week1/Benson_final/Benson_modules.py\u001b[0m in \u001b[0;36mcollapse_scp\u001b[0;34m(tsperturn)\u001b[0m\n\u001b[1;32m     86\u001b[0m                 \u001b[0;32mif\u001b[0m \u001b[0munit\u001b[0m \u001b[0;32mnot\u001b[0m \u001b[0;32min\u001b[0m \u001b[0munit_ts\u001b[0m\u001b[0;34m.\u001b[0m\u001b[0mkeys\u001b[0m\u001b[0;34m(\u001b[0m\u001b[0;34m)\u001b[0m\u001b[0;34m:\u001b[0m\u001b[0;34m\u001b[0m\u001b[0m\n\u001b[1;32m     87\u001b[0m                         \u001b[0munit_ts\u001b[0m\u001b[0;34m[\u001b[0m\u001b[0munit\u001b[0m\u001b[0;34m]\u001b[0m\u001b[0;34m=\u001b[0m\u001b[0mcounts_per_date\u001b[0m\u001b[0;34m\u001b[0m\u001b[0m\n\u001b[0;32m---> 88\u001b[0;31m                 \u001b[0;32melse\u001b[0m\u001b[0;34m:\u001b[0m\u001b[0;34m\u001b[0m\u001b[0m\n\u001b[0m\u001b[1;32m     89\u001b[0m                         \u001b[0;32mfor\u001b[0m \u001b[0mtime\u001b[0m \u001b[0;32min\u001b[0m \u001b[0mtimes\u001b[0m\u001b[0;34m:\u001b[0m\u001b[0;34m\u001b[0m\u001b[0m\n\u001b[1;32m     90\u001b[0m                                 \u001b[0munit_ts\u001b[0m\u001b[0;34m[\u001b[0m\u001b[0munit\u001b[0m\u001b[0;34m]\u001b[0m\u001b[0;34m[\u001b[0m\u001b[0mtime\u001b[0m\u001b[0;34m[\u001b[0m\u001b[0;36m0\u001b[0m\u001b[0;34m]\u001b[0m\u001b[0;34m]\u001b[0m\u001b[0;34m+=\u001b[0m\u001b[0mtime\u001b[0m\u001b[0;34m[\u001b[0m\u001b[0;36m1\u001b[0m\u001b[0;34m]\u001b[0m\u001b[0;34m\u001b[0m\u001b[0m\n",
        "\u001b[0;31mKeyError\u001b[0m: datetime.date(2015, 1, 3)"
       ]
      }
     ],
     "prompt_number": 42
    },
    {
     "cell_type": "markdown",
     "metadata": {},
     "source": [
      "Set the number of weeks to look at in analysis. Data for 11 weeks are available."
     ]
    },
    {
     "cell_type": "code",
     "collapsed": false,
     "input": [
      "numberWeeks = 2"
     ],
     "language": "python",
     "metadata": {},
     "outputs": [],
     "prompt_number": 3
    },
    {
     "cell_type": "markdown",
     "metadata": {},
     "source": [
      "Setting path for data files"
     ]
    },
    {
     "cell_type": "code",
     "collapsed": false,
     "input": [
      "path= \"./mta_data/mta\"\n",
      "datafiles=[path+str(i)+\".txt\" for i in range(12-numberWeeks,12)]\n",
      "\n",
      "week_series=[processing_seq(datafiles[week]) for week in range(numberWeeks)]\n"
     ],
     "language": "python",
     "metadata": {},
     "outputs": [
      {
       "output_type": "stream",
       "stream": "stdout",
       "text": [
        "\n",
        "loading ./mta_data/mta10.txt\n",
        "\n",
        "calculating daily total entries for 4558 turnstiles\n"
       ]
      },
      {
       "output_type": "stream",
       "stream": "stdout",
       "text": [
        "\n",
        "combining entry counts for4558 turnstiles\n"
       ]
      },
      {
       "output_type": "stream",
       "stream": "stdout",
       "text": [
        "\n",
        "combining unit counts for 727  control units\n"
       ]
      },
      {
       "output_type": "stream",
       "stream": "stdout",
       "text": [
        "\n",
        "making weekly totals for 381 stations\n",
        "\n",
        "\n",
        "loading ./mta_data/mta11.txt\n"
       ]
      },
      {
       "output_type": "stream",
       "stream": "stdout",
       "text": [
        "\n",
        "calculating daily total entries for 4557 turnstiles\n"
       ]
      },
      {
       "output_type": "stream",
       "stream": "stdout",
       "text": [
        "\n",
        "combining entry counts for4557 turnstiles\n"
       ]
      },
      {
       "output_type": "stream",
       "stream": "stdout",
       "text": [
        "\n",
        "combining unit counts for 727  control units\n"
       ]
      },
      {
       "output_type": "stream",
       "stream": "stdout",
       "text": [
        "\n",
        "making weekly totals for 381 stations\n",
        "\n"
       ]
      }
     ],
     "prompt_number": 11
    },
    {
     "cell_type": "code",
     "collapsed": false,
     "input": [],
     "language": "python",
     "metadata": {},
     "outputs": [],
     "prompt_number": 7
    },
    {
     "cell_type": "code",
     "collapsed": false,
     "input": [
      "historical_tot = defaultdict(int)\n",
      "for week in week_series:\n",
      "    for station, counts in week.iteritems():\n",
      "        if sum(counts) > 1000000 or sum(counts)<0:                  #Last minute sanity check on totals\n",
      "            pass\n",
      "        else:\n",
      "            historical_tot[station] += sum(counts)\n",
      "        \n",
      "\n",
      "import operator\n",
      "sorted_tots = sorted(historical_tot.items(), key=operator.itemgetter(1), reverse=True)\n",
      "print sorted_tots[:25]"
     ],
     "language": "python",
     "metadata": {},
     "outputs": [
      {
       "output_type": "stream",
       "stream": "stdout",
       "text": [
        "[('34 ST-PENN STA', 1846901), ('42 ST-GRD CNTRL', 1466091), ('34 ST-HERALD SQ', 1282823), ('86 ST', 1157445), ('42 ST-TIMES SQ', 1010817), ('14 ST-UNION SQ', 936967), ('59 ST-COLUMBUS', 712592), ('96 ST', 707712), ('CANAL ST', 702967), ('47-50 ST-ROCK', 701535), ('FULTON ST', 677327), ('59 ST', 661496), ('CHAMBERS ST', 634841), ('MAIN ST', 594657), ('23 ST', 593532), ('42 ST-PA BUS TE', 584519), ('50 ST', 553102), ('ROOSEVELT AVE', 529367), ('72 ST', 489316), ('BARCLAYS CENTER', 467367), ('WALL ST', 440691), ('LEXINGTON-53 ST', 432188), ('JAMAICA CENTER', 418549), ('77 ST', 400789), ('CHURCH AVE', 387105)]\n"
       ]
      }
     ],
     "prompt_number": 45
    },
    {
     "cell_type": "code",
     "collapsed": false,
     "input": [
      "purecounts = [station[1]/float(10**6) for station in sorted_tots]\n",
      "\n",
      "plt.hist(purecounts[:100],bins=20)\n",
      "plt.title('Frequency of Riders at largest Stations', fontsize=17)\n",
      "plt.xlabel(\"Millions of Riders\", fontsize=15, labelpad=5)\n",
      "plt.ylabel(\"Frequency\", fontsize=15, labelpad=15)\n",
      "plt.savefig('Total_freq.png')\n"
     ],
     "language": "python",
     "metadata": {},
     "outputs": [
      {
       "metadata": {},
       "output_type": "display_data",
       "png": "[encoded data removed]",
       "text": [
        "<matplotlib.figure.Figure at 0x10d30d110>"
       ]
      }
     ],
     "prompt_number": 52
    },
    {
     "cell_type": "code",
     "collapsed": false,
     "input": [],
     "language": "python",
     "metadata": {},
     "outputs": []
    }
   ],
   "metadata": {}
  }
 ]
}